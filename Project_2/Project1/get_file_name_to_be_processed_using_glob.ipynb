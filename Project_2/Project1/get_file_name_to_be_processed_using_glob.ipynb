{
 "cells": [
  {
   "cell_type": "markdown",
   "metadata": {},
   "source": [
    "#### The format() method in Python is used to format strings. It allows you to insert values into a string using placeholders. "
   ]
  },
  {
   "cell_type": "code",
   "execution_count": 20,
   "metadata": {},
   "outputs": [
    {
     "name": "stdout",
     "output_type": "stream",
     "text": [
      "Hello, Alice. You are 25 years old.\n",
      "Hello, Alice. You are 25 years old. Alice, do you like Python?\n",
      "Hello, Alice. You are 25 years old.\n"
     ]
    }
   ],
   "source": [
    "#Positional Formatting\n",
    "\n",
    "#Syntax: 'string with placeholders'.format(value1, value2, ...)\n",
    "\n",
    "print('Hello, {}. You are {} years old.'.format('Alice',25))\n",
    "\n",
    "#Index-Based Formatting\n",
    "\n",
    "print('Hello, {0}. You are {1} years old. {0}, do you like Python?'.format('Alice',25))\n",
    "\n",
    "#Named Placeholders\n",
    "\n",
    "print('Hello, {name}. You are {age} years old.'.format(name='Alice', age=25))"
   ]
  },
  {
   "cell_type": "code",
   "execution_count": 33,
   "metadata": {},
   "outputs": [
    {
     "name": "stdout",
     "output_type": "stream",
     "text": [
      "Hello, Alice. You are 25 years old.\n",
      "The value of pi is 3.14\n",
      "The population of the city is 1,234,567.\n",
      "The value is                   42.\n",
      "The value is 42        .\n",
      "The value is     42    .\n"
     ]
    }
   ],
   "source": [
    "# Mixed Positional and Named Placeholders\n",
    "\n",
    "print('Hello, {0}. You are {age} years old.'.format('Alice', age=25))\n",
    "\n",
    "# Formatting Number\n",
    "\n",
    "print('The value of pi is {:.2f}'.format(3.14159))\n",
    "print('The population of the city is {:,}.'.format(1234567))\n",
    "# Padding and alignment\n",
    "print('The value is {:>20}.'.format(42))  # Right-aligned\n",
    "print('The value is {:<10}.'.format(42))  # Left-aligned\n",
    "print('The value is {:^10}.'.format(42))  # Center-aligned\n"
   ]
  },
  {
   "cell_type": "code",
   "execution_count": 37,
   "metadata": {},
   "outputs": [
    {
     "name": "stdout",
     "output_type": "stream",
     "text": [
      "Hello, Alice. Your age is 25\n",
      "Hello Alice, Your age is 27\n"
     ]
    }
   ],
   "source": [
    "# Using Dictionaries\n",
    "\n",
    "data = {'name':'Alice', 'age':25}\n",
    "print('Hello, {name}. Your age is {age}'.format(**data))\n",
    "\n",
    "# Formatting with f-strings (Python 3.6+)\n",
    "\n",
    "name = 'Alice'\n",
    "age=27\n",
    "print(f'Hello {name}, Your age is {age}')\n"
   ]
  },
  {
   "cell_type": "code",
   "execution_count": null,
   "metadata": {},
   "outputs": [],
   "source": [
    "# Accessing Attributes and Items\n",
    "# You can access attributes of objects or items of dictionaries/lists within the placeholders.\n",
    "\n",
    "\n",
    "class Person:\n",
    "    def __init__(self, name, age):\n",
    "        self.name = name\n",
    "        self.age = age\n",
    "\n",
    "person = Person('Alice', 25)\n",
    "print('Hello, {p.name}. You are {p.age} years old.'.format(p=person))\n",
    "\n",
    "data = {'name': 'Alice', 'age': 25}\n",
    "print('Hello, {0[name]}. You are {0[age]} years old.'.format(data))\n"
   ]
  },
  {
   "cell_type": "code",
   "execution_count": 1,
   "metadata": {},
   "outputs": [],
   "source": [
    "import glob\n",
    "#C:\\Users\\FL_LPT-546\\Documents\\Itversity Projects\\Project1\\data\\retail_db\\categories\\part-0000"
   ]
  },
  {
   "cell_type": "code",
   "execution_count": 2,
   "metadata": {},
   "outputs": [
    {
     "name": "stdout",
     "output_type": "stream",
     "text": [
      "Help on module glob:\n",
      "\n",
      "NAME\n",
      "    glob - Filename globbing utility.\n",
      "\n",
      "MODULE REFERENCE\n",
      "    https://docs.python.org/3.10/library/glob.html\n",
      "    \n",
      "    The following documentation is automatically generated from the Python\n",
      "    source files.  It may be incomplete, incorrect or include features that\n",
      "    are considered implementation detail and may vary between Python\n",
      "    implementations.  When in doubt, consult the module reference at the\n",
      "    location listed above.\n",
      "\n",
      "FUNCTIONS\n",
      "    escape(pathname)\n",
      "        Escape all special characters.\n",
      "    \n",
      "    glob(pathname, *, root_dir=None, dir_fd=None, recursive=False)\n",
      "        Return a list of paths matching a pathname pattern.\n",
      "        \n",
      "        The pattern may contain simple shell-style wildcards a la\n",
      "        fnmatch. However, unlike fnmatch, filenames starting with a\n",
      "        dot are special cases that are not matched by '*' and '?'\n",
      "        patterns.\n",
      "        \n",
      "        If recursive is true, the pattern '**' will match any files and\n",
      "        zero or more directories and subdirectories.\n",
      "    \n",
      "    iglob(pathname, *, root_dir=None, dir_fd=None, recursive=False)\n",
      "        Return an iterator which yields the paths matching a pathname pattern.\n",
      "        \n",
      "        The pattern may contain simple shell-style wildcards a la\n",
      "        fnmatch. However, unlike fnmatch, filenames starting with a\n",
      "        dot are special cases that are not matched by '*' and '?'\n",
      "        patterns.\n",
      "        \n",
      "        If recursive is true, the pattern '**' will match any files and\n",
      "        zero or more directories and subdirectories.\n",
      "\n",
      "DATA\n",
      "    __all__ = ['glob', 'iglob', 'escape']\n",
      "\n",
      "FILE\n",
      "    c:\\users\\fl_lpt-546\\appdata\\local\\programs\\python\\python310\\lib\\glob.py\n",
      "\n",
      "\n"
     ]
    }
   ],
   "source": [
    "help(glob)"
   ]
  },
  {
   "cell_type": "code",
   "execution_count": 5,
   "metadata": {},
   "outputs": [
    {
     "data": {
      "text/plain": [
       "['data/retail_db\\\\',\n",
       " 'data/retail_db\\\\categories',\n",
       " 'data/retail_db\\\\categories\\\\part-00000',\n",
       " 'data/retail_db\\\\create_db.sql',\n",
       " 'data/retail_db\\\\create_db_tables_pg.sql',\n",
       " 'data/retail_db\\\\customers',\n",
       " 'data/retail_db\\\\customers\\\\part-00000',\n",
       " 'data/retail_db\\\\departments',\n",
       " 'data/retail_db\\\\departments\\\\part-00000',\n",
       " 'data/retail_db\\\\load_db_tables_pg.sql',\n",
       " 'data/retail_db\\\\orders',\n",
       " 'data/retail_db\\\\orders\\\\part-00000',\n",
       " 'data/retail_db\\\\order_items',\n",
       " 'data/retail_db\\\\order_items\\\\part-00000',\n",
       " 'data/retail_db\\\\products',\n",
       " 'data/retail_db\\\\products\\\\part-00000',\n",
       " 'data/retail_db\\\\README.md',\n",
       " 'data/retail_db\\\\schemas.json']"
      ]
     },
     "execution_count": 5,
     "metadata": {},
     "output_type": "execute_result"
    }
   ],
   "source": [
    "glob.glob('data/retail_db/**', recursive=True)"
   ]
  },
  {
   "cell_type": "code",
   "execution_count": 6,
   "metadata": {},
   "outputs": [
    {
     "data": {
      "text/plain": [
       "['data/retail_db\\\\categories\\\\part-00000',\n",
       " 'data/retail_db\\\\customers\\\\part-00000',\n",
       " 'data/retail_db\\\\departments\\\\part-00000',\n",
       " 'data/retail_db\\\\orders\\\\part-00000',\n",
       " 'data/retail_db\\\\order_items\\\\part-00000',\n",
       " 'data/retail_db\\\\products\\\\part-00000']"
      ]
     },
     "execution_count": 6,
     "metadata": {},
     "output_type": "execute_result"
    }
   ],
   "source": [
    "glob.glob('data/retail_db/*/*')"
   ]
  },
  {
   "cell_type": "code",
   "execution_count": 9,
   "metadata": {},
   "outputs": [],
   "source": [
    "src_file_names = glob.glob('data/retail_db/*/part-*')"
   ]
  },
  {
   "cell_type": "code",
   "execution_count": 10,
   "metadata": {},
   "outputs": [],
   "source": [
    "import pandas as pd"
   ]
  },
  {
   "cell_type": "code",
   "execution_count": 40,
   "metadata": {},
   "outputs": [
    {
     "name": "stdout",
     "output_type": "stream",
     "text": [
      "Shape of data/retail_db\\categories\\part-00000 is (58, 3)\n",
      "Shape of data/retail_db\\customers\\part-00000 is (12435, 9)\n",
      "Shape of data/retail_db\\departments\\part-00000 is (6, 2)\n",
      "Shape of data/retail_db\\orders\\part-00000 is (68883, 4)\n",
      "Shape of data/retail_db\\order_items\\part-00000 is (172198, 6)\n",
      "Shape of data/retail_db\\products\\part-00000 is (1345, 6)\n"
     ]
    }
   ],
   "source": [
    "for file_name in src_file_names:\n",
    "    df = pd.read_csv(file_name, header=None)\n",
    "    print(f'Shape of {file_name} is {df.shape}')"
   ]
  },
  {
   "cell_type": "code",
   "execution_count": null,
   "metadata": {},
   "outputs": [],
   "source": []
  },
  {
   "cell_type": "code",
   "execution_count": null,
   "metadata": {},
   "outputs": [],
   "source": []
  }
 ],
 "metadata": {
  "kernelspec": {
   "display_name": "Python 3",
   "language": "python",
   "name": "python3"
  },
  "language_info": {
   "codemirror_mode": {
    "name": "ipython",
    "version": 3
   },
   "file_extension": ".py",
   "mimetype": "text/x-python",
   "name": "python",
   "nbconvert_exporter": "python",
   "pygments_lexer": "ipython3",
   "version": "3.10.9"
  }
 },
 "nbformat": 4,
 "nbformat_minor": 2
}
